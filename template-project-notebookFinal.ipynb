{
 "cells": [
  {
   "cell_type": "markdown",
   "id": "94d88980",
   "metadata": {},
   "source": [
    "## Введение\n",
    "\n",
    "Наш проект заключает в себе создание викторины на тему футбола. Для этого нами был создан датасет с вопросами и ответами на них. Код написан так, чтобы программа каждый ответ пользователя определяла, как верный или неверный, а в конце высчитывала результат. Сами вопросы можно менять в зависимости от задачи, ключевое - работа самой викторины.\n"
   ]
  },
  {
   "cell_type": "code",
   "execution_count": 12,
   "id": "fda48f7f",
   "metadata": {},
   "outputs": [
    {
     "ename": "FileNotFoundError",
     "evalue": "[Errno 2] No such file or directory: 'C:\\\\Users\\\\Nikita\\\\Питонвик.txt'",
     "output_type": "error",
     "traceback": [
      "\u001b[1;31m---------------------------------------------------------------------------\u001b[0m",
      "\u001b[1;31mFileNotFoundError\u001b[0m                         Traceback (most recent call last)",
      "Cell \u001b[1;32mIn[12], line 3\u001b[0m\n\u001b[0;32m      1\u001b[0m kol \u001b[38;5;241m=\u001b[39m \u001b[38;5;241m0\u001b[39m\n\u001b[1;32m----> 3\u001b[0m f \u001b[38;5;241m=\u001b[39m \u001b[38;5;28mopen\u001b[39m(\u001b[38;5;124m'\u001b[39m\u001b[38;5;124mC:\u001b[39m\u001b[38;5;130;01m\\\\\u001b[39;00m\u001b[38;5;124mUsers\u001b[39m\u001b[38;5;130;01m\\\\\u001b[39;00m\u001b[38;5;124mNikita\u001b[39m\u001b[38;5;130;01m\\\\\u001b[39;00m\u001b[38;5;124mПитонвик.txt\u001b[39m\u001b[38;5;124m'\u001b[39m, encoding \u001b[38;5;241m=\u001b[39m \u001b[38;5;124m'\u001b[39m\u001b[38;5;124mutf-8\u001b[39m\u001b[38;5;124m'\u001b[39m)\n\u001b[0;32m      4\u001b[0m vopr_f \u001b[38;5;241m=\u001b[39m f\u001b[38;5;241m.\u001b[39mreadlines()\n\u001b[0;32m      5\u001b[0m f\u001b[38;5;241m.\u001b[39mclose()\n",
      "File \u001b[1;32m~\\anaconda3\\Lib\\site-packages\\IPython\\core\\interactiveshell.py:324\u001b[0m, in \u001b[0;36m_modified_open\u001b[1;34m(file, *args, **kwargs)\u001b[0m\n\u001b[0;32m    317\u001b[0m \u001b[38;5;28;01mif\u001b[39;00m file \u001b[38;5;129;01min\u001b[39;00m {\u001b[38;5;241m0\u001b[39m, \u001b[38;5;241m1\u001b[39m, \u001b[38;5;241m2\u001b[39m}:\n\u001b[0;32m    318\u001b[0m     \u001b[38;5;28;01mraise\u001b[39;00m \u001b[38;5;167;01mValueError\u001b[39;00m(\n\u001b[0;32m    319\u001b[0m         \u001b[38;5;124mf\u001b[39m\u001b[38;5;124m\"\u001b[39m\u001b[38;5;124mIPython won\u001b[39m\u001b[38;5;124m'\u001b[39m\u001b[38;5;124mt let you open fd=\u001b[39m\u001b[38;5;132;01m{\u001b[39;00mfile\u001b[38;5;132;01m}\u001b[39;00m\u001b[38;5;124m by default \u001b[39m\u001b[38;5;124m\"\u001b[39m\n\u001b[0;32m    320\u001b[0m         \u001b[38;5;124m\"\u001b[39m\u001b[38;5;124mas it is likely to crash IPython. If you know what you are doing, \u001b[39m\u001b[38;5;124m\"\u001b[39m\n\u001b[0;32m    321\u001b[0m         \u001b[38;5;124m\"\u001b[39m\u001b[38;5;124myou can use builtins\u001b[39m\u001b[38;5;124m'\u001b[39m\u001b[38;5;124m open.\u001b[39m\u001b[38;5;124m\"\u001b[39m\n\u001b[0;32m    322\u001b[0m     )\n\u001b[1;32m--> 324\u001b[0m \u001b[38;5;28;01mreturn\u001b[39;00m io_open(file, \u001b[38;5;241m*\u001b[39margs, \u001b[38;5;241m*\u001b[39m\u001b[38;5;241m*\u001b[39mkwargs)\n",
      "\u001b[1;31mFileNotFoundError\u001b[0m: [Errno 2] No such file or directory: 'C:\\\\Users\\\\Nikita\\\\Питонвик.txt'"
     ]
    }
   ],
   "source": [
    "kol = 0\n",
    " \n",
    "f = open('C:\\\\Users\\\\Nikita\\\\Питонвик.txt', encoding = 'utf-8')\n",
    "vopr_f = f.readlines()\n",
    "f.close()\n",
    " \n",
    "total = int(len(vopr_f)/2)\n",
    " \n",
    "vopr = []\n",
    "st = 1\n",
    "for i in vopr_f:\n",
    "    if st == 1: \n",
    "        newi = i.replace(\"\\n\", \"\");\n",
    "        q = []\n",
    "        q.append(newi)\n",
    "        st = 2\n",
    "    else:\n",
    "        newi = i.replace(\"\\n\", \"\");\n",
    "        q.append(newi)\n",
    "        vopr.append(q)\n",
    "        st = 1\n",
    " \n",
    "for i in vopr:\n",
    "    otv = input(i[0])\n",
    "    if otv.lower() == i[1]:\n",
    "        print(\"Верно\")\n",
    "        kol = kol + 1\n",
    "    else:\n",
    "        print(\"Не верно\")         \n",
    "     \n",
    "print(kol,\" верных ответов из \", total, 'Молодец! Наш слон!')"
   ]
  },
  {
   "cell_type": "markdown",
   "id": "f76696e6",
   "metadata": {},
   "source": [
    "## Первый шаг"
   ]
  },
  {
   "cell_type": "code",
   "execution_count": null,
   "id": "672bd57a",
   "metadata": {},
   "outputs": [],
   "source": [
    "# Здесь программа считывает данные из текстового файла (Датасета)\n",
    "\n",
    "kol = 0\n",
    " \n",
    "f = open('C:\\\\Users\\\\Nikita\\\\Питонвик.txt', encoding = 'utf-8')\n",
    "vopr_f = f.readlines()\n",
    "f.close()\n",
    " \n",
    "total = int(len(vopr_f)/2)"
   ]
  },
  {
   "cell_type": "markdown",
   "id": "6491286e",
   "metadata": {},
   "source": [
    "## Второй шаг"
   ]
  },
  {
   "cell_type": "code",
   "execution_count": 8,
   "id": "59b1eb56",
   "metadata": {},
   "outputs": [
    {
     "ename": "NameError",
     "evalue": "name 'vopr_f' is not defined",
     "output_type": "error",
     "traceback": [
      "\u001b[1;31m---------------------------------------------------------------------------\u001b[0m",
      "\u001b[1;31mNameError\u001b[0m                                 Traceback (most recent call last)",
      "Cell \u001b[1;32mIn[8], line 4\u001b[0m\n\u001b[0;32m      2\u001b[0m vopr \u001b[38;5;241m=\u001b[39m []\n\u001b[0;32m      3\u001b[0m st \u001b[38;5;241m=\u001b[39m \u001b[38;5;241m1\u001b[39m\n\u001b[1;32m----> 4\u001b[0m \u001b[38;5;28;01mfor\u001b[39;00m i \u001b[38;5;129;01min\u001b[39;00m vopr_f:\n\u001b[0;32m      5\u001b[0m     \u001b[38;5;28;01mif\u001b[39;00m st \u001b[38;5;241m==\u001b[39m \u001b[38;5;241m1\u001b[39m: \n\u001b[0;32m      6\u001b[0m         newi \u001b[38;5;241m=\u001b[39m i\u001b[38;5;241m.\u001b[39mreplace(\u001b[38;5;124m\"\u001b[39m\u001b[38;5;130;01m\\n\u001b[39;00m\u001b[38;5;124m\"\u001b[39m, \u001b[38;5;124m\"\u001b[39m\u001b[38;5;124m\"\u001b[39m);\n",
      "\u001b[1;31mNameError\u001b[0m: name 'vopr_f' is not defined"
     ]
    }
   ],
   "source": [
    "# Эта часть кода создаёт такой алгоритм, который будет пробегать по строкам файла и нечётные строки он запишет, как вопросы, а чётные, как ответы\n",
    "\n",
    "vopr = []\n",
    "st = 1\n",
    "for i in vopr_f:\n",
    "    if st == 1: \n",
    "        newi = i.replace(\"\\n\", \"\");\n",
    "        q = []\n",
    "        q.append(newi)\n",
    "        st = 2\n",
    "    else:\n",
    "        newi = i.replace(\"\\n\", \"\");\n",
    "        q.append(newi)\n",
    "        vopr.append(q)\n",
    "        st = 1"
   ]
  },
  {
   "cell_type": "code",
   "execution_count": 10,
   "id": "8957a561-b31c-4d6f-bcee-cdcfbcd968ed",
   "metadata": {},
   "outputs": [],
   "source": [
    "## Третий шаг"
   ]
  },
  {
   "cell_type": "code",
   "execution_count": null,
   "id": "b9c6b8d1-b569-449b-b411-ac5ceed6bc40",
   "metadata": {},
   "outputs": [],
   "source": [
    "# Ну шо тут можно сказать.... аэаэаэаэа\n",
    "# С помощью этой части кода, программа проверят ответ на верность/неверность\n",
    "\n",
    "for i in vopr:\n",
    "    otv = input(i[0])\n",
    "    if otv.lower() == i[1]:\n",
    "        print(\"Верно\")\n",
    "        kol = kol + 1\n",
    "    else:\n",
    "        print(\"Не верно\")"
   ]
  },
  {
   "cell_type": "markdown",
   "id": "67948a07",
   "metadata": {},
   "source": [
    "## Выводы\n",
    "\n",
    "Итого, можно сказать, что программа успешно выводит вопросы и реагирует на ответы пользователя. "
   ]
  }
 ],
 "metadata": {
  "kernelspec": {
   "display_name": "Python 3 (ipykernel)",
   "language": "python",
   "name": "python3"
  },
  "language_info": {
   "codemirror_mode": {
    "name": "ipython",
    "version": 3
   },
   "file_extension": ".py",
   "mimetype": "text/x-python",
   "name": "python",
   "nbconvert_exporter": "python",
   "pygments_lexer": "ipython3",
   "version": "3.12.4"
  }
 },
 "nbformat": 4,
 "nbformat_minor": 5
}
